{
 "cells": [
  {
   "cell_type": "code",
   "execution_count": 1,
   "metadata": {},
   "outputs": [],
   "source": [
    "from twython import Twython\n",
    "\n",
    "consumer_key = 'ZWfmMkgfVN9fBOPMYEMisByxh'\n",
    "consumer_secret = 'vBNH39gj2M7b7UwvjTeVTHHm55RyNOIShgDwkOFYJU0uRjyP0g'\n",
    "access_token = '388341625-uLpDJ3BI0hArroQkKv0qibIdunkZWLeNZISs0zVB'\n",
    "access_token_secret = 'pMU95D3Df9GY2si60aHPP3VwE7eluac4h8gtlYE6gKK1j'\n",
    "\n",
    "twitter = Twython(consumer_key, consumer_secret, access_token, access_token_secret)"
   ]
  },
  {
   "cell_type": "code",
   "execution_count": 2,
   "metadata": {},
   "outputs": [],
   "source": [
    "import datetime\n",
    "import os\n",
    "import json\n",
    "from os import listdir\n",
    "from os.path import isfile, join\n",
    "from time import sleep\n",
    "\n",
    "folder = os.path.join('C:/', 'users', 'charr', 'OneDrive', 'Desktop', 'Spring Quarter', 'Social Network Analysis', 'Congress COVID')\n",
    "\n",
    "get_files = [f for f in listdir(folder) if isfile(join(folder, f))]\n",
    "\n",
    "def open_file(file_name):\n",
    "    with open(file_name, mode = 'r', encoding = 'utf8') as reader:\n",
    "        dct = json.load(reader)\n",
    "    return dct"
   ]
  },
  {
   "cell_type": "code",
   "execution_count": 4,
   "metadata": {},
   "outputs": [
    {
     "data": {
      "text/plain": [
       "['2020-04-16.json',\n",
       " '2020-04-17.json',\n",
       " '2020-04-18.json',\n",
       " '2020-04-19.json',\n",
       " '2020-04-20.json',\n",
       " '2020-04-21.json',\n",
       " '2020-04-22.json',\n",
       " '2020-04-23.json',\n",
       " '2020-04-24.json',\n",
       " '2020-04-25.json',\n",
       " '2020-04-26.json',\n",
       " '2020-04-27.json',\n",
       " '2020-04-28.json',\n",
       " '2020-04-29.json',\n",
       " '2020-04-30.json']"
      ]
     },
     "execution_count": 4,
     "metadata": {},
     "output_type": "execute_result"
    }
   ],
   "source": [
    "get_files[:15]"
   ]
  },
  {
   "cell_type": "code",
   "execution_count": 6,
   "metadata": {},
   "outputs": [],
   "source": [
    "tweets_list = []\n",
    "for i in list(range(len(get_files[:15]))):\n",
    "    lst = open_file(get_files[i])\n",
    "    for j in lst:\n",
    "        tweets_list.append(j['id'])\n"
   ]
  },
  {
   "cell_type": "code",
   "execution_count": 7,
   "metadata": {},
   "outputs": [],
   "source": [
    "import itertools\n",
    "def grouper(iterable, n=100):\n",
    "    it = iter(iterable)\n",
    "    while True:\n",
    "        chunk = list(itertools.islice(it, n))\n",
    "        if not chunk:\n",
    "            return\n",
    "        yield chunk"
   ]
  },
  {
   "cell_type": "code",
   "execution_count": 8,
   "metadata": {},
   "outputs": [],
   "source": [
    "def get_tweets(tweet_list):\n",
    "    tweets_dict = {}\n",
    "    for tweets in grouper(tweets_list, 100):\n",
    "        rslts = twitter.lookup_status(id=','.join(tweets), tweet_mode='extended')\n",
    "        for tweet in rslts:\n",
    "            tweets_dict[tweet['id']] = tweet\n",
    "        sleep(1)\n",
    "    return tweets_dict"
   ]
  },
  {
   "cell_type": "code",
   "execution_count": 9,
   "metadata": {},
   "outputs": [],
   "source": [
    "import json\n",
    "def save_json(file_name, tweets_dict):\n",
    "    with open(f'full_{file_name}', 'w') as f:\n",
    "        json.dump(tweets_dict, f)"
   ]
  },
  {
   "cell_type": "code",
   "execution_count": 10,
   "metadata": {},
   "outputs": [],
   "source": [
    "for file_name in get_files[:15]:\n",
    "    lst = open_file(file_name)\n",
    "    tweets_list = [j['id'] for j in lst]\n",
    "    tweets_dict = get_tweets(tweets_list)\n",
    "    save_json(file_name, tweets_dict)"
   ]
  },
  {
   "cell_type": "code",
   "execution_count": null,
   "metadata": {},
   "outputs": [],
   "source": []
  },
  {
   "cell_type": "code",
   "execution_count": null,
   "metadata": {},
   "outputs": [],
   "source": []
  },
  {
   "cell_type": "code",
   "execution_count": null,
   "metadata": {},
   "outputs": [],
   "source": []
  }
 ],
 "metadata": {
  "kernelspec": {
   "display_name": "Python 3",
   "language": "python",
   "name": "python3"
  },
  "language_info": {
   "codemirror_mode": {
    "name": "ipython",
    "version": 3
   },
   "file_extension": ".py",
   "mimetype": "text/x-python",
   "name": "python",
   "nbconvert_exporter": "python",
   "pygments_lexer": "ipython3",
   "version": "3.7.4"
  }
 },
 "nbformat": 4,
 "nbformat_minor": 2
}
